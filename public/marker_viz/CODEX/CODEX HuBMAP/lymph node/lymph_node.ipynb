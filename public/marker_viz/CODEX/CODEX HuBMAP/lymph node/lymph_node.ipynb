{
 "cells": [
  {
   "cell_type": "code",
   "execution_count": 1,
   "metadata": {},
   "outputs": [],
   "source": [
    "import scanpy as sc\n",
    "import os\n",
    "import matplotlib.pyplot as plt\n",
    "import matplotlib.colors as mcolors\n",
    "import matplotlib.font_manager as fm\n",
    "from mpl_toolkits.axes_grid1.anchored_artists import AnchoredSizeBar\n",
    "import pandas as pd\n",
    "import anndata as ad \n",
    "import numpy as np\n",
    "import seaborn as sns\n",
    "from tqdm import tqdm\n",
    "\n",
    "def find_files(directory, substring, extension):\n",
    "    # 存储符合条件的文件路径\n",
    "    matching_files = []\n",
    "    # 遍历给定目录及其所有子目录\n",
    "    for root, dirs, files in os.walk(directory):\n",
    "        # 检查每个文件\n",
    "        for file in files:\n",
    "            # 检查文件名是否包含特定子字符串并且以特定扩展名结尾\n",
    "            if substring in file and file.endswith(extension):\n",
    "                # 如果符合条件，添加完整路径到列表\n",
    "                matching_files.append(os.path.join(root, file))\n",
    "    return matching_files\n",
    "\n",
    "save_path = '/data/twang15/spatial_protein/CODEX_data/hubmap/marker_viz/lymph_node'\n",
    "os.makedirs(save_path, exist_ok=True)\n",
    "# tissues = adata.obs['Tissue'].drop_duplicates().tolist()\n",
    "files = find_files('/data/twang15/spatial_protein/CODEX_data/hubmap/anndata/lymph_node', 'raw', '.h5ad')"
   ]
  },
  {
   "cell_type": "code",
   "execution_count": 2,
   "metadata": {},
   "outputs": [
    {
     "name": "stderr",
     "output_type": "stream",
     "text": [
      "  0%|          | 0/24 [00:00<?, ?it/s]/data/twang15/mamba/envs/imc/lib/python3.8/site-packages/anndata/_core/anndata.py:1838: UserWarning: Observation names are not unique. To make them unique, call `.obs_names_make_unique`.\n",
      "  utils.warn_names_duplicates(\"obs\")\n",
      "/data/twang15/mamba/envs/imc/lib/python3.8/site-packages/scanpy/plotting/_tools/scatterplots.py:371: UserWarning: No data for colormapping provided via 'c'. Parameters 'cmap', 'norm' will be ignored\n",
      "  ax.scatter(\n",
      "/data/twang15/mamba/envs/imc/lib/python3.8/site-packages/scanpy/plotting/_tools/scatterplots.py:381: UserWarning: No data for colormapping provided via 'c'. Parameters 'cmap', 'norm' will be ignored\n",
      "  ax.scatter(\n",
      "100%|██████████| 24/24 [23:16<00:00, 58.18s/it]  \n"
     ]
    }
   ],
   "source": [
    "for file in tqdm(files):\n",
    "    tmp = sc.read_h5ad(file)\n",
    "    tissue = file.split('/')[8]\n",
    "    sc.pl.embedding(tmp, basis='xy', color=tmp.var_names.tolist(),show=False,size=15,add_outline=True, color_map='viridis')\n",
    "    os.makedirs(f'/data/twang15/spatial_protein/CODEX_data/hubmap/marker_viz/lymph_node/{tissue}/', exist_ok=True)\n",
    "    plt.savefig(f'/data/twang15/spatial_protein/CODEX_data/hubmap/marker_viz/lymph_node/{tissue}/marker_viz.png', bbox_inches='tight')\n",
    "    plt.close()"
   ]
  },
  {
   "cell_type": "code",
   "execution_count": 3,
   "metadata": {},
   "outputs": [
    {
     "name": "stderr",
     "output_type": "stream",
     "text": [
      "100%|██████████| 24/24 [01:19<00:00,  3.32s/it]\n"
     ]
    }
   ],
   "source": [
    "from scipy.spatial import Delaunay\n",
    "for file in tqdm(files):\n",
    "    tmp = sc.read_h5ad(file)\n",
    "    tissue = file.split('/')[8]\n",
    "    tri = Delaunay(tmp.obsm['xy'])\n",
    "    plt.triplot(tmp.obsm['xy'][:, 0], tmp.obsm['xy'][:, 1], tri.simplices, color='gray', linewidth=0.5)\n",
    "    plt.plot(tmp.obsm['xy'][:, 0], tmp.obsm['xy'][:, 1], 'o', markersize=0.5)  # 绘制点\n",
    "    # plt.xlabel('X Coordinate')\n",
    "    # plt.ylabel('Y Coordinate')\n",
    "    plt.title('Delaunay Triangulation')\n",
    "    plt.axis('off')\n",
    "    plt.savefig(f'/data/twang15/spatial_protein/CODEX_data/hubmap/marker_viz/lymph_node/{tissue}/delaunay.png', bbox_inches='tight')\n",
    "    plt.close()"
   ]
  }
 ],
 "metadata": {
  "kernelspec": {
   "display_name": "Python 3",
   "language": "python",
   "name": "python3"
  },
  "language_info": {
   "codemirror_mode": {
    "name": "ipython",
    "version": 3
   },
   "file_extension": ".py",
   "mimetype": "text/x-python",
   "name": "python",
   "nbconvert_exporter": "python",
   "pygments_lexer": "ipython3",
   "version": "3.8.19"
  }
 },
 "nbformat": 4,
 "nbformat_minor": 2
}
