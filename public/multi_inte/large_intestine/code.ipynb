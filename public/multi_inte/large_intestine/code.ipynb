{
 "cells": [
  {
   "cell_type": "code",
   "execution_count": 1,
   "metadata": {},
   "outputs": [],
   "source": [
    "import pandas as pd\n",
    "import scanpy as sc\n",
    "import matplotlib.pyplot as plt\n",
    "import seaborn as sns\n",
    "import os\n",
    "from tqdm import tqdm\n",
    "\n",
    "def find_files(directory, substring, extension):\n",
    "    # 存储符合条件的文件路径\n",
    "    matching_files = []\n",
    "    # 遍历给定目录及其所有子目录\n",
    "    for root, dirs, files in os.walk(directory):\n",
    "        # 检查每个文件\n",
    "        for file in files:\n",
    "            # 检查文件名是否包含特定子字符串并且以特定扩展名结尾\n",
    "            if substring in file and file.endswith(extension):\n",
    "                # 如果符合条件，添加完整路径到列表\n",
    "                matching_files.append(os.path.join(root, file))\n",
    "    return matching_files"
   ]
  },
  {
   "cell_type": "code",
   "execution_count": 2,
   "metadata": {},
   "outputs": [],
   "source": [
    "save_path = '/data/twang15/spatial_protein/CODEX_data/hubmap/multi_inte/large_intestine'\n",
    "os.makedirs(save_path, exist_ok=True)\n",
    "# tissues = adata.obs['Tissue'].drop_duplicates().tolist()\n",
    "files = find_files('/data/twang15/spatial_protein/CODEX_data/hubmap/integrated/large_intestine', 'integrated', '.h5ad')\n",
    "files.remove('/data/twang15/spatial_protein/CODEX_data/hubmap/integrated/large_intestine/combined_protein_integrated.h5ad')"
   ]
  },
  {
   "cell_type": "code",
   "execution_count": 5,
   "metadata": {},
   "outputs": [
    {
     "name": "stderr",
     "output_type": "stream",
     "text": [
      "/data/twang15/mamba/envs/imc/lib/python3.8/site-packages/anndata/_core/anndata.py:121: ImplicitModificationWarning: Transforming to str index.\n",
      "  warnings.warn(\"Transforming to str index.\", ImplicitModificationWarning)\n",
      "/data/twang15/mamba/envs/imc/lib/python3.8/site-packages/anndata/_core/anndata.py:1838: UserWarning: Observation names are not unique. To make them unique, call `.obs_names_make_unique`.\n",
      "  utils.warn_names_duplicates(\"obs\")\n"
     ]
    }
   ],
   "source": [
    "tmp = sc.read_h5ad(files[0])"
   ]
  },
  {
   "cell_type": "code",
   "execution_count": 4,
   "metadata": {},
   "outputs": [
    {
     "data": {
      "text/plain": [
       "'HBM942.WHFC.488_reg001'"
      ]
     },
     "execution_count": 4,
     "metadata": {},
     "output_type": "execute_result"
    }
   ],
   "source": [
    "files[0].split('/')[8].replace('_integrated_protein.h5ad', '')"
   ]
  },
  {
   "cell_type": "code",
   "execution_count": 8,
   "metadata": {},
   "outputs": [
    {
     "data": {
      "text/plain": [
       "Index(['assay_ontology_term_id', 'donor_id', 'anatomical_information',\n",
       "       'n_counts_UMIs', 'n_genes', 'cell_ontology_class', 'free_annotation',\n",
       "       'manually_annotated', 'compartment', 'sex_ontology_term_id',\n",
       "       'disease_ontology_term_id', 'is_primary_data',\n",
       "       'organism_ontology_term_id', 'suspension_type',\n",
       "       'cell_type_ontology_term_id', 'tissue_ontology_term_id',\n",
       "       'development_stage_ontology_term_id',\n",
       "       'self_reported_ethnicity_ontology_term_id', 'tissue_type', 'cell_type',\n",
       "       'assay', 'disease', 'organism', 'sex', 'tissue',\n",
       "       'self_reported_ethnicity', 'development_stage', 'observation_joinid',\n",
       "       'Cell K-Means [Mean] Expression',\n",
       "       'Cell K-Means [Covariance] Expression',\n",
       "       'Cell K-Means [Total] Expression',\n",
       "       'Cell K-Means [Mean-All-SubRegions] Expression',\n",
       "       'Cell K-Means [Shape-Vectors]', 'Cell K-Means [Texture]',\n",
       "       'Cell K-Means [tSNE_All_Features]',\n",
       "       'Cell K-Means [Shape-Vectors Normalized]',\n",
       "       'Cell K-Means [UMAP_All_Features]', 'Nuclei K-Means [Mean] Expression',\n",
       "       'Nuclei K-Means [Covariance] Expression',\n",
       "       'Nuclei K-Means [Total] Expression',\n",
       "       'Nuclei K-Means [Mean-All-SubRegions] Expression',\n",
       "       'Nuclei K-Means [Shape-Vectors]', 'Nuclei K-Means [Texture]',\n",
       "       'Nuclei K-Means [tSNE_All_Features]',\n",
       "       'Nuclei K-Means [Shape-Vectors Normalized]',\n",
       "       'Nuclei K-Means [UMAP_All_Features]',\n",
       "       'Cell Boundaries K-Means [Mean] Expression',\n",
       "       'Cell Boundaries K-Means [Covariance] Expression',\n",
       "       'Cell Boundaries K-Means [Total] Expression',\n",
       "       'Cell Boundaries K-Means [Mean-All-SubRegions] Expression',\n",
       "       'Cell Boundaries K-Means [Shape-Vectors]',\n",
       "       'Cell Boundaries K-Means [Texture]',\n",
       "       'Cell Boundaries K-Means [tSNE_All_Features]',\n",
       "       'Cell Boundaries K-Means [Shape-Vectors Normalized]',\n",
       "       'Cell Boundaries K-Means [UMAP_All_Features]',\n",
       "       'Nucleus Boundaries K-Means [Mean] Expression',\n",
       "       'Nucleus Boundaries K-Means [Covariance] Expression',\n",
       "       'Nucleus Boundaries K-Means [Total] Expression',\n",
       "       'Nucleus Boundaries K-Means [Mean-All-SubRegions] Expression',\n",
       "       'Nucleus Boundaries K-Means [Shape-Vectors]',\n",
       "       'Nucleus Boundaries K-Means [Texture]',\n",
       "       'Nucleus Boundaries K-Means [tSNE_All_Features]',\n",
       "       'Nucleus Boundaries K-Means [Shape-Vectors Normalized]',\n",
       "       'Nucleus Boundaries K-Means [UMAP_All_Features]', 'Tissue', 'x', 'y',\n",
       "       'neighborhood10'],\n",
       "      dtype='object')"
      ]
     },
     "execution_count": 8,
     "metadata": {},
     "output_type": "execute_result"
    }
   ],
   "source": [
    "tmp.obs.columns"
   ]
  },
  {
   "cell_type": "code",
   "execution_count": 9,
   "metadata": {},
   "outputs": [],
   "source": [
    "save_path = '/data/twang15/spatial_protein/CODEX_data/hubmap/multi_inte/spleen'\n",
    "os.makedirs(save_path, exist_ok=True)\n",
    "# tissues = adata.obs['Tissue'].drop_duplicates().tolist()\n",
    "files = find_files('/data/twang15/spatial_protein/CODEX_data/hubmap/integrated/spleen', 'integrated', '.h5ad')\n",
    "# files.remove('/data/twang15/spatial_protein/CODEX_data/hubmap/integrated/large_intestine/combined_protein_integrated.h5ad')"
   ]
  },
  {
   "cell_type": "code",
   "execution_count": 13,
   "metadata": {},
   "outputs": [],
   "source": [
    "tissue = files[0].split('/')[8].replace('_protein_integrated.h5ad', '')"
   ]
  },
  {
   "cell_type": "code",
   "execution_count": 14,
   "metadata": {},
   "outputs": [
    {
     "data": {
      "text/plain": [
       "'HBM626.KXRZ.238_reg1'"
      ]
     },
     "execution_count": 14,
     "metadata": {},
     "output_type": "execute_result"
    }
   ],
   "source": [
    "tissue"
   ]
  },
  {
   "cell_type": "code",
   "execution_count": null,
   "metadata": {},
   "outputs": [],
   "source": []
  }
 ],
 "metadata": {
  "kernelspec": {
   "display_name": "Python 3",
   "language": "python",
   "name": "python3"
  },
  "language_info": {
   "codemirror_mode": {
    "name": "ipython",
    "version": 3
   },
   "file_extension": ".py",
   "mimetype": "text/x-python",
   "name": "python",
   "nbconvert_exporter": "python",
   "pygments_lexer": "ipython3",
   "version": "3.8.19"
  }
 },
 "nbformat": 4,
 "nbformat_minor": 2
}
